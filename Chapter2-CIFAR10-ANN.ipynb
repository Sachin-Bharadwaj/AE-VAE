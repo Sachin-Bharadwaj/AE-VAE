{
 "cells": [
  {
   "cell_type": "code",
   "execution_count": 10,
   "metadata": {},
   "outputs": [],
   "source": [
    "from pathlib import Path\n",
    "from IPython.core.debugger import set_trace\n",
    "from fastai import datasets\n",
    "import pickle, gzip, math, torch, matplotlib as mpl\n",
    "import matplotlib.pyplot as plt\n",
    "from torch import tensor\n",
    "import tarfile,os\n",
    "import re\n",
    "import numpy as np\n",
    "from torch import nn\n",
    "import torch.nn.functional as F\n",
    "from torch import optim"
   ]
  },
  {
   "cell_type": "code",
   "execution_count": 11,
   "metadata": {},
   "outputs": [],
   "source": [
    "from fastprogress import master_bar, progress_bar\n",
    "from fastprogress.fastprogress import format_time\n",
    "from functools import partial\n",
    "import time"
   ]
  },
  {
   "cell_type": "markdown",
   "metadata": {},
   "source": [
    "#  Data Download/reading/processing"
   ]
  },
  {
   "cell_type": "code",
   "execution_count": 2,
   "metadata": {},
   "outputs": [],
   "source": [
    "datasets??"
   ]
  },
  {
   "cell_type": "code",
   "execution_count": 7,
   "metadata": {},
   "outputs": [],
   "source": [
    "CIFAR10_URL='http://files.fast.ai/data/examples/cifar10'"
   ]
  },
  {
   "cell_type": "code",
   "execution_count": 8,
   "metadata": {},
   "outputs": [
    {
     "name": "stdout",
     "output_type": "stream",
     "text": [
      "Downloading http://files.fast.ai/data/examples/cifar10\n"
     ]
    },
    {
     "data": {
      "text/html": [],
      "text/plain": [
       "<IPython.core.display.HTML object>"
      ]
     },
     "metadata": {},
     "output_type": "display_data"
    },
    {
     "data": {
      "text/plain": [
       "WindowsPath('C:/Users/Sachin Bharadwaj/.fastai/data/cifar10.tgz')"
      ]
     },
     "execution_count": 8,
     "metadata": {},
     "output_type": "execute_result"
    }
   ],
   "source": [
    "path = datasets.download_data(CIFAR10_URL, ext='.tgz'); path # path is PathLib object"
   ]
  },
  {
   "cell_type": "code",
   "execution_count": 4,
   "metadata": {},
   "outputs": [],
   "source": [
    "??datasets.download_data"
   ]
  },
  {
   "cell_type": "code",
   "execution_count": 22,
   "metadata": {},
   "outputs": [],
   "source": [
    "dest_dir =  \"D:\\\\Steradian\\\\Personal\\\\GANs\\\\datasets\\\\\"\n",
    "with tarfile.open(path) as f:\n",
    "    f.extractall(dest_dir)"
   ]
  },
  {
   "cell_type": "code",
   "execution_count": 12,
   "metadata": {},
   "outputs": [],
   "source": [
    "dataset_dir = \"D:\\\\Steradian\\\\Personal\\\\GANs\\\\datasets\\\\\" + 'cifar10'\n",
    "test_files = []\n",
    "test_labels = []\n",
    "train_files = []\n",
    "train_labels = []\n",
    "pat = r'([a-zA-Z]+).png$'\n",
    "pat = re.compile(pat)\n",
    "for currpath, folders, filenames in os.walk(dataset_dir):\n",
    "    if 'train' in currpath:\n",
    "        for fname in filenames:\n",
    "            string = os.path.join(currpath,fname)\n",
    "            train_files.append(string)\n",
    "            label = pat.search(string).group(1)\n",
    "            train_labels.append(label)\n",
    "    elif 'test' in currpath:\n",
    "        for fname in filenames:\n",
    "            string = os.path.join(currpath,fname)\n",
    "            test_files.append(string)\n",
    "            label = pat.search(string).group(1)\n",
    "            test_labels.append(label)"
   ]
  },
  {
   "cell_type": "code",
   "execution_count": 13,
   "metadata": {},
   "outputs": [
    {
     "data": {
      "text/plain": [
       "['D:\\\\Steradian\\\\Personal\\\\GANs\\\\datasets\\\\cifar10\\\\test\\\\truck\\\\9868_truck.png',\n",
       " 'D:\\\\Steradian\\\\Personal\\\\GANs\\\\datasets\\\\cifar10\\\\test\\\\truck\\\\9871_truck.png',\n",
       " 'D:\\\\Steradian\\\\Personal\\\\GANs\\\\datasets\\\\cifar10\\\\test\\\\truck\\\\9875_truck.png',\n",
       " 'D:\\\\Steradian\\\\Personal\\\\GANs\\\\datasets\\\\cifar10\\\\test\\\\truck\\\\9881_truck.png',\n",
       " 'D:\\\\Steradian\\\\Personal\\\\GANs\\\\datasets\\\\cifar10\\\\test\\\\truck\\\\9884_truck.png',\n",
       " 'D:\\\\Steradian\\\\Personal\\\\GANs\\\\datasets\\\\cifar10\\\\test\\\\truck\\\\9898_truck.png',\n",
       " 'D:\\\\Steradian\\\\Personal\\\\GANs\\\\datasets\\\\cifar10\\\\test\\\\truck\\\\9927_truck.png',\n",
       " 'D:\\\\Steradian\\\\Personal\\\\GANs\\\\datasets\\\\cifar10\\\\test\\\\truck\\\\9938_truck.png',\n",
       " 'D:\\\\Steradian\\\\Personal\\\\GANs\\\\datasets\\\\cifar10\\\\test\\\\truck\\\\9958_truck.png',\n",
       " 'D:\\\\Steradian\\\\Personal\\\\GANs\\\\datasets\\\\cifar10\\\\test\\\\truck\\\\9971_truck.png']"
      ]
     },
     "execution_count": 13,
     "metadata": {},
     "output_type": "execute_result"
    }
   ],
   "source": [
    "test_files[-10::]"
   ]
  },
  {
   "cell_type": "code",
   "execution_count": 14,
   "metadata": {},
   "outputs": [
    {
     "data": {
      "text/plain": [
       "['truck',\n",
       " 'truck',\n",
       " 'truck',\n",
       " 'truck',\n",
       " 'truck',\n",
       " 'truck',\n",
       " 'truck',\n",
       " 'truck',\n",
       " 'truck',\n",
       " 'truck']"
      ]
     },
     "execution_count": 14,
     "metadata": {},
     "output_type": "execute_result"
    }
   ],
   "source": [
    "test_labels[-10::]"
   ]
  },
  {
   "cell_type": "code",
   "execution_count": 15,
   "metadata": {},
   "outputs": [
    {
     "name": "stdout",
     "output_type": "stream",
     "text": [
      "(32, 32, 3)\n"
     ]
    },
    {
     "data": {
      "text/plain": [
       "<matplotlib.image.AxesImage at 0x295bc3ccd68>"
      ]
     },
     "execution_count": 15,
     "metadata": {},
     "output_type": "execute_result"
    },
    {
     "data": {
      "image/png": "[encoded data removed]",
      "text/plain": [
       "<Figure size 432x288 with 1 Axes>"
      ]
     },
     "metadata": {
      "needs_background": "light"
     },
     "output_type": "display_data"
    }
   ],
   "source": [
    "from PIL import Image\n",
    "im = Image.open(test_files[200])\n",
    "im\n",
    "# using matplotlib\n",
    "x = plt.imread(test_files[200])\n",
    "print(x.shape)\n",
    "plt.imshow(x)"
   ]
  },
  {
   "cell_type": "code",
   "execution_count": 16,
   "metadata": {},
   "outputs": [],
   "source": [
    "# refactor code\n",
    "def get_filelist_labellist(dataset_dir, pat):\n",
    "    '''\n",
    "    [1] dataset_dir : rootDIR where dataset is stored, ex: dataset_dir = \"D:\\\\Steradian\\\\Personal\\\\GANs\\\\datasets\\\\\" + 'cifar10'\n",
    "    [2] regular expression for searching label from filenames, ex: pat = r'([a-zA-Z]+).png$'\n",
    "    '''\n",
    "    test_files = []\n",
    "    test_labels = []\n",
    "    train_files = []\n",
    "    train_labels = []\n",
    "    pat = re.compile(pat)\n",
    "    for currpath, folders, filenames in os.walk(dataset_dir):\n",
    "        if 'train' in currpath:\n",
    "            for fname in filenames:\n",
    "                string = os.path.join(currpath,fname)\n",
    "                train_files.append(string)\n",
    "                label = pat.search(string).group(1)\n",
    "                train_labels.append(label)\n",
    "        elif 'test' in currpath:\n",
    "            for fname in filenames:\n",
    "                string = os.path.join(currpath,fname)\n",
    "                test_files.append(string)\n",
    "                label = pat.search(string).group(1)\n",
    "                test_labels.append(label)\n",
    "                \n",
    "    return train_files, train_labels, test_files, test_labels"
   ]
  },
  {
   "cell_type": "code",
   "execution_count": 17,
   "metadata": {},
   "outputs": [],
   "source": [
    "dataset_dir = \"D:\\\\Steradian\\\\Personal\\\\GANs\\\\datasets\\\\\" + 'cifar10'\n",
    "pat = r'([a-zA-Z]+).png$'\n",
    "train_files_list, train_labels_list, test_files_list, test_labels_list  = get_filelist_labellist(dataset_dir, pat)"
   ]
  },
  {
   "cell_type": "code",
   "execution_count": 18,
   "metadata": {},
   "outputs": [],
   "source": [
    "def get_data(file_list):\n",
    "    data = []\n",
    "    for f in file_list:\n",
    "        data.append(plt.imread(f))\n",
    "        \n",
    "    return data\n",
    "\n",
    "train_datalist = get_data(train_files_list)\n",
    "test_datalist = get_data(test_files_list)"
   ]
  },
  {
   "cell_type": "code",
   "execution_count": 19,
   "metadata": {},
   "outputs": [
    {
     "data": {
      "text/plain": [
       "(50000, 10000)"
      ]
     },
     "execution_count": 19,
     "metadata": {},
     "output_type": "execute_result"
    }
   ],
   "source": [
    "len(train_datalist), len(test_datalist)"
   ]
  },
  {
   "cell_type": "code",
   "execution_count": 20,
   "metadata": {},
   "outputs": [
    {
     "data": {
      "text/plain": [
       "((32, 32, 3), (32, 32, 3))"
      ]
     },
     "execution_count": 20,
     "metadata": {},
     "output_type": "execute_result"
    }
   ],
   "source": [
    "train_datalist[0].shape, test_datalist[0].shape"
   ]
  },
  {
   "cell_type": "code",
   "execution_count": 21,
   "metadata": {},
   "outputs": [
    {
     "data": {
      "text/plain": [
       "(50000, 10000)"
      ]
     },
     "execution_count": 21,
     "metadata": {},
     "output_type": "execute_result"
    }
   ],
   "source": [
    "len(train_labels_list), len(test_labels_list)"
   ]
  },
  {
   "cell_type": "code",
   "execution_count": 22,
   "metadata": {},
   "outputs": [],
   "source": [
    "# contruct label dictionary\n",
    "label_file = dataset_dir + '\\\\labels.txt'\n",
    "fh = open(label_file,'r')\n",
    "label_dict = {}\n",
    "c = 0\n",
    "for l in fh:\n",
    "    label_dict[l.rstrip()] = c #rstrip() removes all sorts of trailing spaces including /n\n",
    "    c+=1    "
   ]
  },
  {
   "cell_type": "code",
   "execution_count": 23,
   "metadata": {},
   "outputs": [
    {
     "data": {
      "text/plain": [
       "{'airplane': 0,\n",
       " 'automobile': 1,\n",
       " 'bird': 2,\n",
       " 'cat': 3,\n",
       " 'deer': 4,\n",
       " 'dog': 5,\n",
       " 'frog': 6,\n",
       " 'horse': 7,\n",
       " 'ship': 8,\n",
       " 'truck': 9}"
      ]
     },
     "execution_count": 23,
     "metadata": {},
     "output_type": "execute_result"
    }
   ],
   "source": [
    "label_dict"
   ]
  },
  {
   "cell_type": "code",
   "execution_count": 24,
   "metadata": {},
   "outputs": [],
   "source": [
    "def get_labels(labellist, label_dict):\n",
    "    labels = []\n",
    "    for l in labellist:\n",
    "        labels.append(label_dict[l])\n",
    "    return labels\n",
    "\n",
    "train_labels =  get_labels(train_labels_list, label_dict)  \n",
    "test_labels =  get_labels(test_labels_list, label_dict)  "
   ]
  },
  {
   "cell_type": "code",
   "execution_count": 25,
   "metadata": {},
   "outputs": [
    {
     "data": {
      "text/plain": [
       "[9, 9, 9, 9, 9, 9, 9, 9, 9, 9]"
      ]
     },
     "execution_count": 25,
     "metadata": {},
     "output_type": "execute_result"
    }
   ],
   "source": [
    "train_labels[-10::]"
   ]
  },
  {
   "cell_type": "code",
   "execution_count": 26,
   "metadata": {},
   "outputs": [
    {
     "data": {
      "text/plain": [
       "(50000, 50000)"
      ]
     },
     "execution_count": 26,
     "metadata": {},
     "output_type": "execute_result"
    }
   ],
   "source": [
    "len(train_datalist), len(train_labels)"
   ]
  },
  {
   "cell_type": "code",
   "execution_count": 27,
   "metadata": {},
   "outputs": [
    {
     "data": {
      "text/plain": [
       "(10000, 10000)"
      ]
     },
     "execution_count": 27,
     "metadata": {},
     "output_type": "execute_result"
    }
   ],
   "source": [
    "len(test_datalist), len(test_labels)"
   ]
  },
  {
   "cell_type": "code",
   "execution_count": 28,
   "metadata": {},
   "outputs": [],
   "source": [
    "train_data = np.array(train_datalist)\n",
    "train_labels = np.array(train_labels)\n",
    "test_data = np.array(test_datalist)\n",
    "test_labels = np.array(test_labels)"
   ]
  },
  {
   "cell_type": "code",
   "execution_count": 29,
   "metadata": {},
   "outputs": [
    {
     "data": {
      "text/plain": [
       "((50000, 32, 32, 3), (50000,))"
      ]
     },
     "execution_count": 29,
     "metadata": {},
     "output_type": "execute_result"
    }
   ],
   "source": [
    "train_data.shape, train_labels.shape"
   ]
  },
  {
   "cell_type": "code",
   "execution_count": 30,
   "metadata": {},
   "outputs": [],
   "source": [
    "x_train = train_data/255.0\n",
    "x_test  = test_data/255.0"
   ]
  },
  {
   "cell_type": "code",
   "execution_count": 31,
   "metadata": {},
   "outputs": [],
   "source": [
    "num_classes = len(label_dict.keys())"
   ]
  },
  {
   "cell_type": "code",
   "execution_count": 32,
   "metadata": {},
   "outputs": [],
   "source": [
    "def to_categorical(y, num_classes):\n",
    "    \"\"\" 1-hot encodes a tensor \"\"\"\n",
    "    return np.eye(num_classes, dtype='uint8')[y]\n",
    "#y_train = to_categorical(train_labels, num_classes)\n",
    "#y_test  = to_categorical(test_labels, num_classes)\n",
    "y_train = train_labels\n",
    "y_test  = test_labels"
   ]
  },
  {
   "cell_type": "code",
   "execution_count": 33,
   "metadata": {},
   "outputs": [],
   "source": [
    "# map to tensors\n",
    "x_train,x_test,y_train,y_test = map(tensor,(x_train,x_test,y_train,y_test))"
   ]
  },
  {
   "cell_type": "code",
   "execution_count": 34,
   "metadata": {},
   "outputs": [
    {
     "data": {
      "text/plain": [
       "(torch.Size([50000, 32, 32, 3]), torch.Size([50000]))"
      ]
     },
     "execution_count": 34,
     "metadata": {},
     "output_type": "execute_result"
    }
   ],
   "source": [
    "x_train.shape, y_train.shape"
   ]
  },
  {
   "cell_type": "markdown",
   "metadata": {},
   "source": [
    "# Architecture1- ANN"
   ]
  },
  {
   "cell_type": "code",
   "execution_count": 35,
   "metadata": {},
   "outputs": [],
   "source": [
    "n_in = 32*32*3"
   ]
  },
  {
   "cell_type": "code",
   "execution_count": 36,
   "metadata": {},
   "outputs": [],
   "source": [
    "class Flatten(nn.Module):\n",
    "    def __init__(self, n_out):\n",
    "        super().__init__()\n",
    "        self.n_out = n_out\n",
    "               \n",
    "    def forward(self, x):\n",
    "        return x.view(-1, self.n_out)\n"
   ]
  },
  {
   "cell_type": "code",
   "execution_count": 53,
   "metadata": {},
   "outputs": [],
   "source": [
    "class MyNet(nn.Module):\n",
    "    def __init__(self, module_list):\n",
    "        super().__init__()\n",
    "        self.layers = nn.ModuleList(module_list)\n",
    "        \n",
    "    def forward(self,x):\n",
    "        for l in self.layers:\n",
    "            x = l(x)\n",
    "        return x"
   ]
  },
  {
   "cell_type": "code",
   "execution_count": 286,
   "metadata": {},
   "outputs": [],
   "source": [
    "module_list = [Flatten(n_in), nn.Linear(n_in,200), nn.ReLU(), nn.Linear(200,150), nn.ReLU(), nn.Linear(150,num_classes)]        \n",
    "model = MyNet(module_list)"
   ]
  },
  {
   "cell_type": "code",
   "execution_count": 287,
   "metadata": {},
   "outputs": [
    {
     "data": {
      "text/plain": [
       "torch.Size([2, 10])"
      ]
     },
     "execution_count": 287,
     "metadata": {},
     "output_type": "execute_result"
    }
   ],
   "source": [
    "# just checking\n",
    "x_train[0:2].shape\n",
    "pred = model(x_train[0:2])\n",
    "pred.shape"
   ]
  },
  {
   "cell_type": "code",
   "execution_count": 288,
   "metadata": {},
   "outputs": [
    {
     "data": {
      "text/plain": [
       "tensor(2.3261, grad_fn=<NllLossBackward>)"
      ]
     },
     "execution_count": 288,
     "metadata": {},
     "output_type": "execute_result"
    }
   ],
   "source": [
    "#loss function \n",
    "F.cross_entropy(pred,y_train[0:2].long())"
   ]
  },
  {
   "cell_type": "code",
   "execution_count": 37,
   "metadata": {},
   "outputs": [],
   "source": [
    "# choose the loss function\n",
    "loss_func = F.cross_entropy"
   ]
  },
  {
   "cell_type": "code",
   "execution_count": 290,
   "metadata": {},
   "outputs": [],
   "source": [
    "# choose the optimizer\n",
    "opt = optim.Adam(model.parameters(), lr=1e-3)"
   ]
  },
  {
   "cell_type": "code",
   "execution_count": 291,
   "metadata": {},
   "outputs": [
    {
     "data": {
      "text/plain": [
       "<generator object Module.parameters at 0x000001B133FB82B0>"
      ]
     },
     "execution_count": 291,
     "metadata": {},
     "output_type": "execute_result"
    }
   ],
   "source": [
    "model.parameters()"
   ]
  },
  {
   "cell_type": "code",
   "execution_count": 292,
   "metadata": {},
   "outputs": [
    {
     "name": "stdout",
     "output_type": "stream",
     "text": [
      "Parameter containing:\n",
      "tensor([[-0.0156, -0.0065, -0.0078,  ...,  0.0036, -0.0071,  0.0130],\n",
      "        [-0.0127,  0.0151, -0.0045,  ...,  0.0159,  0.0031, -0.0147],\n",
      "        [ 0.0131, -0.0055, -0.0116,  ...,  0.0108, -0.0083, -0.0095],\n",
      "        ...,\n",
      "        [-0.0072, -0.0115, -0.0057,  ...,  0.0028, -0.0126, -0.0180],\n",
      "        [-0.0063, -0.0095, -0.0021,  ..., -0.0022, -0.0090,  0.0099],\n",
      "        [-0.0006,  0.0142,  0.0033,  ...,  0.0109,  0.0024, -0.0163]],\n",
      "       requires_grad=True)\n",
      "Parameter containing:\n",
      "tensor([ 1.2736e-02, -1.3886e-02,  1.2608e-02,  8.8550e-03, -2.8931e-03,\n",
      "        -1.7318e-02,  5.9455e-04,  1.6414e-02, -1.1948e-02, -2.1564e-03,\n",
      "        -1.7394e-02,  1.3424e-02, -4.3029e-03, -1.5711e-02, -1.3853e-02,\n",
      "        -1.3323e-02,  3.1825e-03, -1.4452e-02, -1.1843e-02, -1.4190e-02,\n",
      "        -1.2180e-02,  9.9436e-03, -9.2570e-03,  1.1056e-02, -1.7430e-02,\n",
      "        -5.1045e-03, -1.2498e-02, -1.3544e-02, -8.1253e-03,  1.1739e-02,\n",
      "        -1.0026e-02,  1.0912e-02, -7.3363e-03,  9.4976e-03,  1.7651e-02,\n",
      "        -1.5065e-03,  9.3250e-03, -8.3929e-03, -1.3761e-02,  1.0225e-02,\n",
      "         1.0847e-02, -9.6117e-03,  1.4239e-02, -1.4732e-03, -1.8416e-03,\n",
      "         4.2694e-03,  2.2129e-03, -1.1461e-02, -1.3389e-02,  3.3252e-03,\n",
      "         1.5107e-02, -1.7061e-02,  6.6435e-03,  1.2693e-02, -1.0549e-02,\n",
      "        -5.9897e-03, -9.6502e-03, -8.6116e-03, -6.1256e-03,  1.1573e-02,\n",
      "        -1.6577e-02,  1.3534e-02, -1.0126e-02,  1.2103e-02, -6.5046e-03,\n",
      "         1.5821e-02, -4.3295e-04, -1.7293e-02, -1.1237e-02,  1.7306e-02,\n",
      "        -5.0108e-03,  7.9039e-03,  5.3937e-03,  1.7808e-02,  7.3841e-04,\n",
      "        -1.2562e-02,  1.6391e-02,  2.7477e-03, -4.3187e-03,  1.0590e-02,\n",
      "         2.5235e-03,  7.0870e-03, -1.9147e-03,  1.2119e-02,  7.4408e-03,\n",
      "         3.4418e-03,  8.9934e-05,  1.1358e-02, -3.8434e-03,  1.5566e-02,\n",
      "         1.7260e-02, -9.4141e-03, -1.5218e-02, -1.7644e-02,  1.7430e-02,\n",
      "        -2.6906e-03, -1.3140e-02,  4.3054e-03,  2.8885e-03, -1.5645e-02,\n",
      "         1.3759e-02, -3.8887e-04, -1.3710e-02,  7.0876e-03,  1.7392e-02,\n",
      "        -1.6905e-02,  6.7862e-03,  1.5398e-02, -1.0379e-03,  4.0021e-03,\n",
      "         8.5327e-03,  1.5619e-02, -1.6766e-02, -9.2764e-03,  1.2731e-02,\n",
      "        -4.3334e-03,  5.0250e-03, -1.3257e-02, -4.6044e-03, -1.5528e-02,\n",
      "         6.2439e-03, -7.3653e-03, -1.5666e-02,  8.5666e-03,  7.0279e-04,\n",
      "        -4.1763e-03, -1.5770e-02, -9.4861e-03, -4.3444e-03,  1.4986e-02,\n",
      "        -9.0187e-03, -5.4136e-04, -5.7383e-03,  3.4489e-04, -7.1222e-03,\n",
      "         1.5310e-02,  5.2410e-03,  5.8458e-03, -1.2550e-02,  9.7499e-03,\n",
      "        -1.4223e-02, -1.5214e-02,  1.7825e-02,  2.8760e-03,  6.7716e-03,\n",
      "         6.9669e-03, -4.3654e-03, -1.7497e-02,  1.3465e-03, -1.2391e-02,\n",
      "        -1.2568e-02,  8.2864e-04, -1.1364e-02,  2.6835e-03, -5.3157e-03,\n",
      "         9.4256e-03, -8.5900e-03,  6.3887e-03,  1.0904e-02, -6.1297e-03,\n",
      "        -2.2415e-03, -2.3853e-03, -7.3286e-03,  7.8975e-03,  1.3880e-02,\n",
      "        -1.1843e-02, -1.0374e-02, -1.5593e-02, -1.4262e-02,  2.2889e-03,\n",
      "         1.6079e-02,  3.9586e-03,  1.5094e-02,  2.8315e-03,  1.2751e-02,\n",
      "        -3.9818e-03,  1.9419e-03,  4.1235e-05,  9.2269e-03, -5.1763e-06,\n",
      "        -6.2556e-03, -3.6216e-03, -1.4605e-02, -1.6281e-02,  2.9451e-03,\n",
      "         1.2151e-02, -2.7682e-03, -6.4034e-03,  1.8001e-02,  4.6630e-03,\n",
      "        -1.1042e-02, -1.4522e-02,  1.0390e-02,  1.2125e-02,  1.5502e-02,\n",
      "         1.2861e-02,  1.6028e-02, -3.0055e-03, -1.0809e-03,  2.4873e-03],\n",
      "       requires_grad=True)\n",
      "Parameter containing:\n",
      "tensor([[-0.0431,  0.0416,  0.0301,  ..., -0.0127, -0.0340,  0.0314],\n",
      "        [-0.0516,  0.0136, -0.0439,  ..., -0.0505,  0.0427, -0.0238],\n",
      "        [-0.0135,  0.0128,  0.0220,  ..., -0.0499, -0.0619, -0.0558],\n",
      "        ...,\n",
      "        [ 0.0054, -0.0342,  0.0242,  ..., -0.0027, -0.0596,  0.0316],\n",
      "        [-0.0247, -0.0061,  0.0151,  ...,  0.0163, -0.0357,  0.0156],\n",
      "        [ 0.0129,  0.0103,  0.0571,  ...,  0.0539,  0.0348, -0.0560]],\n",
      "       requires_grad=True)\n",
      "Parameter containing:\n",
      "tensor([ 9.9891e-04, -2.9507e-02, -4.8892e-02, -7.2818e-03, -4.3981e-02,\n",
      "        -6.8484e-02, -7.4886e-05,  2.0371e-03,  3.6698e-02, -1.8146e-02,\n",
      "        -6.4260e-02, -1.1874e-02, -6.2679e-02,  1.6558e-02, -7.0183e-02,\n",
      "        -3.5350e-02, -6.9083e-02, -4.7373e-02, -2.2237e-02,  6.9378e-02,\n",
      "        -1.1213e-02,  2.7445e-02, -5.1950e-02,  3.1774e-02,  2.8585e-02,\n",
      "        -3.7669e-02, -3.8364e-03, -6.9979e-02,  4.1253e-02,  3.5473e-02,\n",
      "        -8.4590e-03,  2.9823e-02,  3.9614e-02,  1.0346e-02, -1.1914e-02,\n",
      "        -3.5449e-02,  6.9603e-02, -3.2006e-02, -3.5718e-02,  1.1566e-02,\n",
      "         5.6647e-02, -2.5409e-02, -1.9571e-02,  2.5084e-02,  2.0891e-02,\n",
      "        -2.3515e-02,  2.8546e-02, -1.4792e-02, -2.0857e-02,  4.7001e-02,\n",
      "        -4.3888e-02,  5.0319e-02, -5.3726e-03, -5.9279e-03, -6.2287e-02,\n",
      "        -5.8614e-03, -2.2460e-03, -4.0186e-02, -4.2844e-02, -3.9522e-02,\n",
      "        -3.2023e-03,  6.5256e-02,  4.1692e-02, -1.8301e-02,  6.0874e-02,\n",
      "         1.5413e-02,  9.5977e-04,  5.0250e-02, -4.8869e-02,  2.7131e-02,\n",
      "         5.3212e-02,  3.8306e-02, -6.7615e-03, -3.0398e-02,  3.5120e-02,\n",
      "         3.1574e-02, -3.7617e-02,  7.0654e-02,  5.0023e-02, -4.1903e-02,\n",
      "         2.4375e-02, -5.1532e-02, -4.5640e-02, -7.9324e-03, -2.2678e-02,\n",
      "         6.8699e-02,  3.2713e-02, -6.2817e-03, -6.5579e-02,  9.8020e-05,\n",
      "         5.7090e-02,  4.4284e-02,  3.5391e-02, -1.7254e-02, -2.7433e-02,\n",
      "        -1.9924e-02, -1.7634e-02,  1.1646e-02, -4.4748e-03,  1.6665e-02,\n",
      "         5.9581e-02,  7.0616e-02,  4.4153e-02, -1.1873e-02, -5.7933e-02,\n",
      "        -6.8020e-02, -2.7477e-02,  3.3451e-02,  1.3653e-03,  5.3073e-02,\n",
      "        -4.1659e-02,  4.2826e-02, -6.7925e-02,  3.8727e-02,  6.7666e-03,\n",
      "         4.4232e-02, -4.2017e-02, -2.4498e-02,  3.3143e-02,  5.9508e-03,\n",
      "         6.6286e-02, -6.2092e-02, -6.9483e-02, -5.6988e-02, -3.0731e-02,\n",
      "        -5.7184e-02, -3.6626e-02,  2.9405e-03, -3.8080e-02, -6.2341e-02,\n",
      "        -2.6552e-02, -4.1410e-02, -2.1498e-02, -5.8959e-02,  4.8665e-02,\n",
      "        -4.2606e-02,  3.4626e-03,  3.3428e-02, -5.7048e-03,  1.3765e-02,\n",
      "        -2.7024e-02,  1.1927e-02, -1.4217e-02,  2.1354e-02, -2.5009e-02,\n",
      "         1.5982e-02,  1.4531e-02, -4.2800e-02, -5.8091e-03, -4.8938e-02],\n",
      "       requires_grad=True)\n",
      "Parameter containing:\n",
      "tensor([[-0.0327,  0.0043,  0.0786,  ..., -0.0188, -0.0541,  0.0246],\n",
      "        [ 0.0404,  0.0685,  0.0203,  ..., -0.0747,  0.0426, -0.0507],\n",
      "        [ 0.0386, -0.0810, -0.0040,  ...,  0.0013, -0.0420,  0.0473],\n",
      "        ...,\n",
      "        [-0.0052, -0.0442, -0.0662,  ..., -0.0755, -0.0786,  0.0107],\n",
      "        [ 0.0713,  0.0191,  0.0634,  ..., -0.0323,  0.0089, -0.0465],\n",
      "        [-0.0049,  0.0070,  0.0143,  ...,  0.0562,  0.0417,  0.0570]],\n",
      "       requires_grad=True)\n",
      "Parameter containing:\n",
      "tensor([-0.0224,  0.0581,  0.0005,  0.0257,  0.0140, -0.0735, -0.0627,  0.0120,\n",
      "         0.0619,  0.0313], requires_grad=True)\n"
     ]
    }
   ],
   "source": [
    "for l in model.parameters():\n",
    "    print(l)"
   ]
  },
  {
   "cell_type": "code",
   "execution_count": 293,
   "metadata": {},
   "outputs": [
    {
     "data": {
      "text/plain": [
       "OrderedDict([('layers.1.weight',\n",
       "              tensor([[-0.0156, -0.0065, -0.0078,  ...,  0.0036, -0.0071,  0.0130],\n",
       "                      [-0.0127,  0.0151, -0.0045,  ...,  0.0159,  0.0031, -0.0147],\n",
       "                      [ 0.0131, -0.0055, -0.0116,  ...,  0.0108, -0.0083, -0.0095],\n",
       "                      ...,\n",
       "                      [-0.0072, -0.0115, -0.0057,  ...,  0.0028, -0.0126, -0.0180],\n",
       "                      [-0.0063, -0.0095, -0.0021,  ..., -0.0022, -0.0090,  0.0099],\n",
       "                      [-0.0006,  0.0142,  0.0033,  ...,  0.0109,  0.0024, -0.0163]])),\n",
       "             ('layers.1.bias',\n",
       "              tensor([ 1.2736e-02, -1.3886e-02,  1.2608e-02,  8.8550e-03, -2.8931e-03,\n",
       "                      -1.7318e-02,  5.9455e-04,  1.6414e-02, -1.1948e-02, -2.1564e-03,\n",
       "                      -1.7394e-02,  1.3424e-02, -4.3029e-03, -1.5711e-02, -1.3853e-02,\n",
       "                      -1.3323e-02,  3.1825e-03, -1.4452e-02, -1.1843e-02, -1.4190e-02,\n",
       "                      -1.2180e-02,  9.9436e-03, -9.2570e-03,  1.1056e-02, -1.7430e-02,\n",
       "                      -5.1045e-03, -1.2498e-02, -1.3544e-02, -8.1253e-03,  1.1739e-02,\n",
       "                      -1.0026e-02,  1.0912e-02, -7.3363e-03,  9.4976e-03,  1.7651e-02,\n",
       "                      -1.5065e-03,  9.3250e-03, -8.3929e-03, -1.3761e-02,  1.0225e-02,\n",
       "                       1.0847e-02, -9.6117e-03,  1.4239e-02, -1.4732e-03, -1.8416e-03,\n",
       "                       4.2694e-03,  2.2129e-03, -1.1461e-02, -1.3389e-02,  3.3252e-03,\n",
       "                       1.5107e-02, -1.7061e-02,  6.6435e-03,  1.2693e-02, -1.0549e-02,\n",
       "                      -5.9897e-03, -9.6502e-03, -8.6116e-03, -6.1256e-03,  1.1573e-02,\n",
       "                      -1.6577e-02,  1.3534e-02, -1.0126e-02,  1.2103e-02, -6.5046e-03,\n",
       "                       1.5821e-02, -4.3295e-04, -1.7293e-02, -1.1237e-02,  1.7306e-02,\n",
       "                      -5.0108e-03,  7.9039e-03,  5.3937e-03,  1.7808e-02,  7.3841e-04,\n",
       "                      -1.2562e-02,  1.6391e-02,  2.7477e-03, -4.3187e-03,  1.0590e-02,\n",
       "                       2.5235e-03,  7.0870e-03, -1.9147e-03,  1.2119e-02,  7.4408e-03,\n",
       "                       3.4418e-03,  8.9934e-05,  1.1358e-02, -3.8434e-03,  1.5566e-02,\n",
       "                       1.7260e-02, -9.4141e-03, -1.5218e-02, -1.7644e-02,  1.7430e-02,\n",
       "                      -2.6906e-03, -1.3140e-02,  4.3054e-03,  2.8885e-03, -1.5645e-02,\n",
       "                       1.3759e-02, -3.8887e-04, -1.3710e-02,  7.0876e-03,  1.7392e-02,\n",
       "                      -1.6905e-02,  6.7862e-03,  1.5398e-02, -1.0379e-03,  4.0021e-03,\n",
       "                       8.5327e-03,  1.5619e-02, -1.6766e-02, -9.2764e-03,  1.2731e-02,\n",
       "                      -4.3334e-03,  5.0250e-03, -1.3257e-02, -4.6044e-03, -1.5528e-02,\n",
       "                       6.2439e-03, -7.3653e-03, -1.5666e-02,  8.5666e-03,  7.0279e-04,\n",
       "                      -4.1763e-03, -1.5770e-02, -9.4861e-03, -4.3444e-03,  1.4986e-02,\n",
       "                      -9.0187e-03, -5.4136e-04, -5.7383e-03,  3.4489e-04, -7.1222e-03,\n",
       "                       1.5310e-02,  5.2410e-03,  5.8458e-03, -1.2550e-02,  9.7499e-03,\n",
       "                      -1.4223e-02, -1.5214e-02,  1.7825e-02,  2.8760e-03,  6.7716e-03,\n",
       "                       6.9669e-03, -4.3654e-03, -1.7497e-02,  1.3465e-03, -1.2391e-02,\n",
       "                      -1.2568e-02,  8.2864e-04, -1.1364e-02,  2.6835e-03, -5.3157e-03,\n",
       "                       9.4256e-03, -8.5900e-03,  6.3887e-03,  1.0904e-02, -6.1297e-03,\n",
       "                      -2.2415e-03, -2.3853e-03, -7.3286e-03,  7.8975e-03,  1.3880e-02,\n",
       "                      -1.1843e-02, -1.0374e-02, -1.5593e-02, -1.4262e-02,  2.2889e-03,\n",
       "                       1.6079e-02,  3.9586e-03,  1.5094e-02,  2.8315e-03,  1.2751e-02,\n",
       "                      -3.9818e-03,  1.9419e-03,  4.1235e-05,  9.2269e-03, -5.1763e-06,\n",
       "                      -6.2556e-03, -3.6216e-03, -1.4605e-02, -1.6281e-02,  2.9451e-03,\n",
       "                       1.2151e-02, -2.7682e-03, -6.4034e-03,  1.8001e-02,  4.6630e-03,\n",
       "                      -1.1042e-02, -1.4522e-02,  1.0390e-02,  1.2125e-02,  1.5502e-02,\n",
       "                       1.2861e-02,  1.6028e-02, -3.0055e-03, -1.0809e-03,  2.4873e-03])),\n",
       "             ('layers.3.weight',\n",
       "              tensor([[-0.0431,  0.0416,  0.0301,  ..., -0.0127, -0.0340,  0.0314],\n",
       "                      [-0.0516,  0.0136, -0.0439,  ..., -0.0505,  0.0427, -0.0238],\n",
       "                      [-0.0135,  0.0128,  0.0220,  ..., -0.0499, -0.0619, -0.0558],\n",
       "                      ...,\n",
       "                      [ 0.0054, -0.0342,  0.0242,  ..., -0.0027, -0.0596,  0.0316],\n",
       "                      [-0.0247, -0.0061,  0.0151,  ...,  0.0163, -0.0357,  0.0156],\n",
       "                      [ 0.0129,  0.0103,  0.0571,  ...,  0.0539,  0.0348, -0.0560]])),\n",
       "             ('layers.3.bias',\n",
       "              tensor([ 9.9891e-04, -2.9507e-02, -4.8892e-02, -7.2818e-03, -4.3981e-02,\n",
       "                      -6.8484e-02, -7.4886e-05,  2.0371e-03,  3.6698e-02, -1.8146e-02,\n",
       "                      -6.4260e-02, -1.1874e-02, -6.2679e-02,  1.6558e-02, -7.0183e-02,\n",
       "                      -3.5350e-02, -6.9083e-02, -4.7373e-02, -2.2237e-02,  6.9378e-02,\n",
       "                      -1.1213e-02,  2.7445e-02, -5.1950e-02,  3.1774e-02,  2.8585e-02,\n",
       "                      -3.7669e-02, -3.8364e-03, -6.9979e-02,  4.1253e-02,  3.5473e-02,\n",
       "                      -8.4590e-03,  2.9823e-02,  3.9614e-02,  1.0346e-02, -1.1914e-02,\n",
       "                      -3.5449e-02,  6.9603e-02, -3.2006e-02, -3.5718e-02,  1.1566e-02,\n",
       "                       5.6647e-02, -2.5409e-02, -1.9571e-02,  2.5084e-02,  2.0891e-02,\n",
       "                      -2.3515e-02,  2.8546e-02, -1.4792e-02, -2.0857e-02,  4.7001e-02,\n",
       "                      -4.3888e-02,  5.0319e-02, -5.3726e-03, -5.9279e-03, -6.2287e-02,\n",
       "                      -5.8614e-03, -2.2460e-03, -4.0186e-02, -4.2844e-02, -3.9522e-02,\n",
       "                      -3.2023e-03,  6.5256e-02,  4.1692e-02, -1.8301e-02,  6.0874e-02,\n",
       "                       1.5413e-02,  9.5977e-04,  5.0250e-02, -4.8869e-02,  2.7131e-02,\n",
       "                       5.3212e-02,  3.8306e-02, -6.7615e-03, -3.0398e-02,  3.5120e-02,\n",
       "                       3.1574e-02, -3.7617e-02,  7.0654e-02,  5.0023e-02, -4.1903e-02,\n",
       "                       2.4375e-02, -5.1532e-02, -4.5640e-02, -7.9324e-03, -2.2678e-02,\n",
       "                       6.8699e-02,  3.2713e-02, -6.2817e-03, -6.5579e-02,  9.8020e-05,\n",
       "                       5.7090e-02,  4.4284e-02,  3.5391e-02, -1.7254e-02, -2.7433e-02,\n",
       "                      -1.9924e-02, -1.7634e-02,  1.1646e-02, -4.4748e-03,  1.6665e-02,\n",
       "                       5.9581e-02,  7.0616e-02,  4.4153e-02, -1.1873e-02, -5.7933e-02,\n",
       "                      -6.8020e-02, -2.7477e-02,  3.3451e-02,  1.3653e-03,  5.3073e-02,\n",
       "                      -4.1659e-02,  4.2826e-02, -6.7925e-02,  3.8727e-02,  6.7666e-03,\n",
       "                       4.4232e-02, -4.2017e-02, -2.4498e-02,  3.3143e-02,  5.9508e-03,\n",
       "                       6.6286e-02, -6.2092e-02, -6.9483e-02, -5.6988e-02, -3.0731e-02,\n",
       "                      -5.7184e-02, -3.6626e-02,  2.9405e-03, -3.8080e-02, -6.2341e-02,\n",
       "                      -2.6552e-02, -4.1410e-02, -2.1498e-02, -5.8959e-02,  4.8665e-02,\n",
       "                      -4.2606e-02,  3.4626e-03,  3.3428e-02, -5.7048e-03,  1.3765e-02,\n",
       "                      -2.7024e-02,  1.1927e-02, -1.4217e-02,  2.1354e-02, -2.5009e-02,\n",
       "                       1.5982e-02,  1.4531e-02, -4.2800e-02, -5.8091e-03, -4.8938e-02])),\n",
       "             ('layers.5.weight',\n",
       "              tensor([[-0.0327,  0.0043,  0.0786,  ..., -0.0188, -0.0541,  0.0246],\n",
       "                      [ 0.0404,  0.0685,  0.0203,  ..., -0.0747,  0.0426, -0.0507],\n",
       "                      [ 0.0386, -0.0810, -0.0040,  ...,  0.0013, -0.0420,  0.0473],\n",
       "                      ...,\n",
       "                      [-0.0052, -0.0442, -0.0662,  ..., -0.0755, -0.0786,  0.0107],\n",
       "                      [ 0.0713,  0.0191,  0.0634,  ..., -0.0323,  0.0089, -0.0465],\n",
       "                      [-0.0049,  0.0070,  0.0143,  ...,  0.0562,  0.0417,  0.0570]])),\n",
       "             ('layers.5.bias',\n",
       "              tensor([-0.0224,  0.0581,  0.0005,  0.0257,  0.0140, -0.0735, -0.0627,  0.0120,\n",
       "                       0.0619,  0.0313]))])"
      ]
     },
     "execution_count": 293,
     "metadata": {},
     "output_type": "execute_result"
    }
   ],
   "source": [
    "model.state_dict()"
   ]
  },
  {
   "cell_type": "code",
   "execution_count": 38,
   "metadata": {},
   "outputs": [],
   "source": [
    "from torch.utils.data import DataLoader, SequentialSampler, RandomSampler"
   ]
  },
  {
   "cell_type": "code",
   "execution_count": 39,
   "metadata": {},
   "outputs": [],
   "source": [
    "from torch.utils.data import Dataset"
   ]
  },
  {
   "cell_type": "code",
   "execution_count": 40,
   "metadata": {},
   "outputs": [],
   "source": [
    "# Inherit the PyTorch Dataset class\n",
    "class MyDataset(Dataset):\n",
    "    def __init__(self, x, y):\n",
    "        self.x, self.y = x, y\n",
    "        \n",
    "    def __getitem__(self, i): # called when you index into something\n",
    "        return (self.x[i], self.y[i])\n",
    "    \n",
    "    def __len__(self):\n",
    "        return len(self.x)\n",
    "train_ds, test_ds = MyDataset(x_train,y_train), MyDataset(x_test,y_test)"
   ]
  },
  {
   "cell_type": "code",
   "execution_count": 41,
   "metadata": {},
   "outputs": [],
   "source": [
    "# construct data loaders\n",
    "bs = 32 #batch size\n",
    "epochs = 1\n",
    "train_dl = DataLoader(train_ds, bs, sampler=RandomSampler(train_ds))\n",
    "test_dl  = DataLoader(test_ds, bs, sampler=SequentialSampler(test_ds))"
   ]
  },
  {
   "cell_type": "code",
   "execution_count": 42,
   "metadata": {},
   "outputs": [],
   "source": [
    "def accuracy(pred, target):\n",
    "    return (pred.argmax(-1) == target.long()).float().mean()"
   ]
  },
  {
   "cell_type": "code",
   "execution_count": 65,
   "metadata": {},
   "outputs": [],
   "source": [
    "def fit(epochs, model, loss_func, opt, train_dl, test_dl):\n",
    "    for epoch in range(epochs):\n",
    "        # Handle batchnorm / dropout\n",
    "        model.train()\n",
    "#         print(model.training)\n",
    "        for xb,yb in train_dl:\n",
    "            loss = loss_func(model(xb), yb.long())\n",
    "            loss.backward()\n",
    "            opt.step()\n",
    "            opt.zero_grad()\n",
    "\n",
    "        model.eval()\n",
    "#         print(model.training)\n",
    "        with torch.no_grad():\n",
    "            tot_loss,tot_acc = 0.,0.\n",
    "            for xb,yb in test_dl:\n",
    "                pred = model(xb)\n",
    "                tot_loss += loss_func(pred, yb.long())\n",
    "                tot_acc  += accuracy (pred,yb)\n",
    "        nv = len(test_dl)\n",
    "        print(epoch, tot_loss/nv, tot_acc/nv)\n",
    "    return tot_loss/nv, tot_acc/nv"
   ]
  },
  {
   "cell_type": "code",
   "execution_count": 304,
   "metadata": {},
   "outputs": [
    {
     "name": "stdout",
     "output_type": "stream",
     "text": [
      "0 tensor(1.7461) tensor(0.3756)\n",
      "1 tensor(1.6863) tensor(0.3933)\n",
      "2 tensor(1.6650) tensor(0.4052)\n",
      "3 tensor(1.6271) tensor(0.4177)\n",
      "4 tensor(1.5981) tensor(0.4271)\n",
      "5 tensor(1.5670) tensor(0.4428)\n",
      "6 tensor(1.5602) tensor(0.4431)\n",
      "7 tensor(1.5401) tensor(0.4523)\n",
      "8 tensor(1.5216) tensor(0.4569)\n",
      "9 tensor(1.5009) tensor(0.4648)\n"
     ]
    },
    {
     "data": {
      "text/plain": [
       "(tensor(1.5009), tensor(0.4648))"
      ]
     },
     "execution_count": 304,
     "metadata": {},
     "output_type": "execute_result"
    }
   ],
   "source": [
    "epochs = 10\n",
    "fit(epochs, model, loss_func, opt, train_dl, test_dl)"
   ]
  },
  {
   "cell_type": "markdown",
   "metadata": {},
   "source": [
    "# Our Two hidden layer Network is about 47% accurate on test set (random probability of success is 10%)"
   ]
  },
  {
   "cell_type": "markdown",
   "metadata": {},
   "source": [
    "## Lets view some of the predictions from the network"
   ]
  },
  {
   "cell_type": "code",
   "execution_count": 309,
   "metadata": {},
   "outputs": [],
   "source": [
    "pred = model(x_test)\n",
    "pred_label_id = pred.argmax(-1)"
   ]
  },
  {
   "cell_type": "code",
   "execution_count": 43,
   "metadata": {},
   "outputs": [],
   "source": [
    "def labelidx_labels(label_dict, labelidx):\n",
    "    '''\n",
    "    [1] label_dict: dictionary where key is the text label and value is the mapping\n",
    "    [2] labelidx: list of label idxs\n",
    "    '''\n",
    "    labels = []\n",
    "    for l in labelidx:\n",
    "        x = [key for key,value in label_dict.items() if value==l][0]\n",
    "        labels.append(x)\n",
    "    return labels"
   ]
  },
  {
   "cell_type": "code",
   "execution_count": 336,
   "metadata": {},
   "outputs": [],
   "source": [
    "pred_labels = labelidx_labels(label_dict, pred_label_id)\n",
    "true_labels = labelidx_labels(label_dict, y_test)"
   ]
  },
  {
   "cell_type": "code",
   "execution_count": 347,
   "metadata": {},
   "outputs": [
    {
     "data": {
      "image/png": "[encoded data removed]",
      "text/plain": [
       "<Figure size 1080x216 with 10 Axes>"
      ]
     },
     "metadata": {
      "needs_background": "light"
     },
     "output_type": "display_data"
    }
   ],
   "source": [
    "n_to_show = 10\n",
    "indices  = np.random.choice(len(pred_labels),n_to_show)\n",
    "\n",
    "fig = plt.figure(figsize=(15, 3))\n",
    "\n",
    "for i, idx in enumerate(indices):\n",
    "    img = test_data[idx]\n",
    "    ax = fig.add_subplot(1, n_to_show, i+1)\n",
    "    ax.axis('off')\n",
    "    # transform=ax.transAxes -> The coordinate system of the Axes; (0, 0) is bottom left of the axes, and (1, 1) is top right of the axes.\n",
    "    ax.text(0.5, -0.35, 'pred = ' + str(pred_labels[idx]), fontsize=10, ha='center', transform=ax.transAxes) \n",
    "    ax.text(0.5, -0.7, 'act = ' + str(true_labels[idx]), fontsize=10, ha='center', transform=ax.transAxes)\n",
    "    ax.imshow(img)"
   ]
  },
  {
   "cell_type": "markdown",
   "metadata": {},
   "source": [
    "# Architecture2- CNN"
   ]
  },
  {
   "cell_type": "code",
   "execution_count": 44,
   "metadata": {},
   "outputs": [],
   "source": [
    "x_train = train_data/255.0\n",
    "x_test  = test_data/255.0\n",
    "y_train = train_labels\n",
    "y_test  = test_labels\n",
    "# map to tensors\n",
    "x_train,x_test,y_train,y_test = map(tensor,(x_train,x_test,y_train,y_test))"
   ]
  },
  {
   "cell_type": "code",
   "execution_count": 45,
   "metadata": {},
   "outputs": [],
   "source": [
    "x_train_new = x_train.clone()\n",
    "x_test_new  = x_test.clone()"
   ]
  },
  {
   "cell_type": "code",
   "execution_count": 46,
   "metadata": {},
   "outputs": [
    {
     "data": {
      "text/plain": [
       "torch.float32"
      ]
     },
     "execution_count": 46,
     "metadata": {},
     "output_type": "execute_result"
    }
   ],
   "source": [
    "x_test_new[0].dtype"
   ]
  },
  {
   "cell_type": "code",
   "execution_count": 47,
   "metadata": {},
   "outputs": [
    {
     "data": {
      "text/plain": [
       "device(type='cuda', index=0)"
      ]
     },
     "execution_count": 47,
     "metadata": {},
     "output_type": "execute_result"
    }
   ],
   "source": [
    "device = torch.device(\"cuda:0\" if torch.cuda.is_available() else \"cpu\")\n",
    "device"
   ]
  },
  {
   "cell_type": "code",
   "execution_count": 48,
   "metadata": {},
   "outputs": [],
   "source": [
    "x_train_new = x_train_new.permute(0,3,2,1)\n",
    "x_test_new  = x_test_new.permute(0,3,2,1)"
   ]
  },
  {
   "cell_type": "code",
   "execution_count": 49,
   "metadata": {},
   "outputs": [],
   "source": [
    "train_ds_new, test_ds_new = MyDataset(x_train_new,y_train), MyDataset(x_test_new,y_test)\n",
    "train_dl_new = DataLoader(train_ds_new, bs, sampler=RandomSampler(train_ds_new))\n",
    "test_dl_new  = DataLoader(test_ds_new, bs, sampler=SequentialSampler(test_ds_new))"
   ]
  },
  {
   "cell_type": "code",
   "execution_count": 50,
   "metadata": {},
   "outputs": [],
   "source": [
    "class Lambda(nn.Module):\n",
    "    def __init__(self, func):\n",
    "        super().__init__()\n",
    "        self.func = func\n",
    "        \n",
    "    def forward(self, x):\n",
    "        return self.func(x)\n",
    "    \n",
    "def flatten(x):\n",
    "    return x.view(x.shape[0],-1)\n",
    "\n",
    "def input_permute(x):\n",
    "    return x.permute(0,3,1,2)"
   ]
  },
  {
   "cell_type": "code",
   "execution_count": 51,
   "metadata": {},
   "outputs": [],
   "source": [
    "module_list = ([nn.Conv2d(3, 32, 3, padding=1, stride=1), nn.BatchNorm2d(32), nn.LeakyReLU(), \n",
    "               nn.Conv2d(32, 64, 3, padding=1, stride=2), nn.BatchNorm2d(64), nn.LeakyReLU(), \n",
    "               nn.Conv2d(64, 128, 3, padding=1, stride=2), nn.BatchNorm2d(128), nn.LeakyReLU(), \n",
    "               nn.Conv2d(128, 256, 3, padding=1, stride=2), nn.BatchNorm2d(256), nn.LeakyReLU(), \n",
    "               Lambda(flatten), \n",
    "               nn.Linear(4096,256), nn.BatchNorm1d(256), nn.LeakyReLU(), nn.Dropout(p=0.5), \n",
    "               nn.Linear(256,num_classes)])"
   ]
  },
  {
   "cell_type": "code",
   "execution_count": 54,
   "metadata": {},
   "outputs": [
    {
     "data": {
      "text/plain": [
       "MyNet(\n",
       "  (layers): ModuleList(\n",
       "    (0): Conv2d(3, 32, kernel_size=(3, 3), stride=(1, 1), padding=(1, 1))\n",
       "    (1): BatchNorm2d(32, eps=1e-05, momentum=0.1, affine=True, track_running_stats=True)\n",
       "    (2): LeakyReLU(negative_slope=0.01)\n",
       "    (3): Conv2d(32, 64, kernel_size=(3, 3), stride=(2, 2), padding=(1, 1))\n",
       "    (4): BatchNorm2d(64, eps=1e-05, momentum=0.1, affine=True, track_running_stats=True)\n",
       "    (5): LeakyReLU(negative_slope=0.01)\n",
       "    (6): Conv2d(64, 128, kernel_size=(3, 3), stride=(2, 2), padding=(1, 1))\n",
       "    (7): BatchNorm2d(128, eps=1e-05, momentum=0.1, affine=True, track_running_stats=True)\n",
       "    (8): LeakyReLU(negative_slope=0.01)\n",
       "    (9): Conv2d(128, 256, kernel_size=(3, 3), stride=(2, 2), padding=(1, 1))\n",
       "    (10): BatchNorm2d(256, eps=1e-05, momentum=0.1, affine=True, track_running_stats=True)\n",
       "    (11): LeakyReLU(negative_slope=0.01)\n",
       "    (12): Lambda()\n",
       "    (13): Linear(in_features=4096, out_features=256, bias=True)\n",
       "    (14): BatchNorm1d(256, eps=1e-05, momentum=0.1, affine=True, track_running_stats=True)\n",
       "    (15): LeakyReLU(negative_slope=0.01)\n",
       "    (16): Dropout(p=0.5)\n",
       "    (17): Linear(in_features=256, out_features=10, bias=True)\n",
       "  )\n",
       ")"
      ]
     },
     "execution_count": 54,
     "metadata": {},
     "output_type": "execute_result"
    }
   ],
   "source": [
    "model = MyNet(module_list)\n",
    "# put the model on GPU\n",
    "model.to(device)"
   ]
  },
  {
   "cell_type": "code",
   "execution_count": 55,
   "metadata": {},
   "outputs": [],
   "source": [
    "# choose the optimizer\n",
    "opt = optim.Adam(model.parameters(), lr=1e-4)"
   ]
  },
  {
   "cell_type": "code",
   "execution_count": 56,
   "metadata": {},
   "outputs": [
    {
     "data": {
      "text/plain": [
       "torch.Size([2, 10])"
      ]
     },
     "execution_count": 56,
     "metadata": {},
     "output_type": "execute_result"
    }
   ],
   "source": [
    "# test few predictions\n",
    "z = x_train_new[0:2].to(device)\n",
    "pred = model(z)\n",
    "pred.shape"
   ]
  },
  {
   "cell_type": "code",
   "execution_count": 117,
   "metadata": {},
   "outputs": [
    {
     "data": {
      "text/plain": [
       "MyNet(\n",
       "  (layers): ModuleList(\n",
       "    (0): Conv2d(3, 32, kernel_size=(3, 3), stride=(1, 1), padding=(1, 1))\n",
       "    (1): BatchNorm2d(32, eps=1e-05, momentum=0.1, affine=True, track_running_stats=True)\n",
       "    (2): LeakyReLU(negative_slope=0.01)\n",
       "    (3): Conv2d(32, 64, kernel_size=(3, 3), stride=(2, 2), padding=(1, 1))\n",
       "    (4): BatchNorm2d(64, eps=1e-05, momentum=0.1, affine=True, track_running_stats=True)\n",
       "    (5): LeakyReLU(negative_slope=0.01)\n",
       "    (6): Conv2d(64, 128, kernel_size=(3, 3), stride=(2, 2), padding=(1, 1))\n",
       "    (7): BatchNorm2d(128, eps=1e-05, momentum=0.1, affine=True, track_running_stats=True)\n",
       "    (8): LeakyReLU(negative_slope=0.01)\n",
       "    (9): Conv2d(128, 256, kernel_size=(3, 3), stride=(2, 2), padding=(1, 1))\n",
       "    (10): BatchNorm2d(256, eps=1e-05, momentum=0.1, affine=True, track_running_stats=True)\n",
       "    (11): LeakyReLU(negative_slope=0.01)\n",
       "    (12): Lambda()\n",
       "    (13): Linear(in_features=4096, out_features=256, bias=True)\n",
       "    (14): BatchNorm1d(256, eps=1e-05, momentum=0.1, affine=True, track_running_stats=True)\n",
       "    (15): LeakyReLU(negative_slope=0.01)\n",
       "    (16): Dropout(p=0.5)\n",
       "    (17): Linear(in_features=256, out_features=10, bias=True)\n",
       "  )\n",
       ")"
      ]
     },
     "execution_count": 117,
     "metadata": {},
     "output_type": "execute_result"
    }
   ],
   "source": [
    "# put the model on GPU\n",
    "model.to(device)"
   ]
  },
  {
   "cell_type": "code",
   "execution_count": 122,
   "metadata": {},
   "outputs": [],
   "source": [
    "def fit(epochs, model, loss_func, opt, train_dl, test_dl):\n",
    "    for epoch in range(epochs):\n",
    "        # Handle batchnorm / dropout\n",
    "        model.train()\n",
    "#         print(model.training)\n",
    "        for xb,yb in train_dl:\n",
    "            xb, yb = xb.to(device), yb.to(device)\n",
    "            loss = loss_func(model(xb), yb.long())\n",
    "            loss.backward()\n",
    "            opt.step()\n",
    "            opt.zero_grad()\n",
    "\n",
    "        model.eval()\n",
    "#         print(model.training)\n",
    "        with torch.no_grad():\n",
    "            tot_loss,tot_acc = 0.,0.\n",
    "            for xb,yb in test_dl:\n",
    "                xb, yb = xb.to(device), yb.to(device)\n",
    "                pred = model(xb)\n",
    "                tot_loss += loss_func(pred, yb.long())\n",
    "                tot_acc  += accuracy (pred,yb)\n",
    "        nv = len(test_dl)\n",
    "        print(epoch, tot_loss/nv, tot_acc/nv)\n",
    "    return tot_loss/nv, tot_acc/nv"
   ]
  },
  {
   "cell_type": "code",
   "execution_count": 126,
   "metadata": {},
   "outputs": [
    {
     "name": "stdout",
     "output_type": "stream",
     "text": [
      "0 tensor(0.7776, device='cuda:0') tensor(0.7662, device='cuda:0')\n",
      "1 tensor(1.1147, device='cuda:0') tensor(0.7047, device='cuda:0')\n",
      "2 tensor(0.8005, device='cuda:0') tensor(0.7670, device='cuda:0')\n"
     ]
    },
    {
     "data": {
      "text/plain": [
       "(tensor(0.8005, device='cuda:0'), tensor(0.7670, device='cuda:0'))"
      ]
     },
     "execution_count": 126,
     "metadata": {},
     "output_type": "execute_result"
    }
   ],
   "source": [
    "epochs = 3\n",
    "fit(epochs, model, loss_func, opt, train_dl_new, test_dl_new)"
   ]
  },
  {
   "cell_type": "code",
   "execution_count": 367,
   "metadata": {},
   "outputs": [
    {
     "data": {
      "text/plain": [
       "torch.Size([32, 32, 3])"
      ]
     },
     "execution_count": 367,
     "metadata": {},
     "output_type": "execute_result"
    }
   ],
   "source": [
    "x_test[0].shape"
   ]
  },
  {
   "cell_type": "markdown",
   "metadata": {},
   "source": [
    "###  some more refactoring of the code\n",
    "1. Datasets are tuples (data,labels) for train/valid/test\n",
    "2. DataLoaders are just generators for datasets, train_dl/valid_dl/test_dl\n",
    "3. DataBunch is just convenience class which binds all dataloaders  together"
   ]
  },
  {
   "cell_type": "code",
   "execution_count": 57,
   "metadata": {},
   "outputs": [],
   "source": [
    "class DataBunch():\n",
    "    def __init__(self, train_dl, valid_dl, c):\n",
    "        self.train_dl, self.valid_dl, self.c = train_dl, valid_dl, c\n",
    "        \n",
    "    @property\n",
    "    def train_ds(self):\n",
    "        return self.train_dl.dataset\n",
    "    \n",
    "    @property\n",
    "    def valid_ds(self):\n",
    "        return self.valid_dl.dataset"
   ]
  },
  {
   "cell_type": "markdown",
   "metadata": {},
   "source": [
    "### Learner class just a convenience class which binds together (model, opt, loss_func, databunch_obj)"
   ]
  },
  {
   "cell_type": "code",
   "execution_count": 58,
   "metadata": {},
   "outputs": [],
   "source": [
    "class Learner():\n",
    "    def __init__(self, model, opt, loss_func, data):\n",
    "        self.model = model\n",
    "        self.opt   = opt\n",
    "        self.loss_func = loss_func\n",
    "        self.data = data"
   ]
  },
  {
   "cell_type": "code",
   "execution_count": 59,
   "metadata": {},
   "outputs": [],
   "source": [
    "databunch = DataBunch(train_dl_new, test_dl_new, num_classes)\n",
    "learn = Learner(model, opt, loss_func, databunch)"
   ]
  },
  {
   "cell_type": "markdown",
   "metadata": {},
   "source": [
    "### redefine fit method  in terms of learn object"
   ]
  },
  {
   "cell_type": "code",
   "execution_count": 138,
   "metadata": {},
   "outputs": [],
   "source": [
    "def fit(epochs, learn):\n",
    "    for epoch in range(epochs):\n",
    "        learn.model.train() # this sets the training flag as True (required for batchnorm, dropout behaviour being different in training vs. validation)\n",
    "        for xb, yb in learn.data.train_dl:\n",
    "            xb, yb = xb.to(device), yb.to(device)\n",
    "            loss = learn.loss_func(model(xb), yb.long())\n",
    "            loss.backward()\n",
    "            learn.opt.step()\n",
    "            learn.opt.zero_grad()\n",
    "            \n",
    "        learn.model.eval() # model in validation mode\n",
    "        with torch.no_grad():\n",
    "            tot_loss, tot_acc = 0.0, 0.0\n",
    "            for xb, yb in learn.data.valid_dl:\n",
    "                xb, yb = xb.to(device), yb.to(device)\n",
    "                pred = model(xb)\n",
    "                tot_loss += learn.loss_func(pred, yb.long())\n",
    "                tot_acc  += accuracy(pred, yb.long())\n",
    "            \n",
    "            nv = len(learn.data.valid_dl)\n",
    "            print(epoch, tot_loss/nv, tot_acc/nv)\n",
    "        return tot_loss/nv, tot_acc/nv"
   ]
  },
  {
   "cell_type": "code",
   "execution_count": 139,
   "metadata": {},
   "outputs": [
    {
     "name": "stdout",
     "output_type": "stream",
     "text": [
      "0 tensor(0.7745, device='cuda:0') tensor(0.7810, device='cuda:0')\n"
     ]
    }
   ],
   "source": [
    "val_loss, val_acc = fit(1, learn)"
   ]
  },
  {
   "cell_type": "markdown",
   "metadata": {},
   "source": [
    "###  Lets add CallBack"
   ]
  },
  {
   "cell_type": "code",
   "execution_count": 60,
   "metadata": {},
   "outputs": [],
   "source": [
    "from collections.abc import Iterable\n",
    "def listify(o):\n",
    "    if o is None: return []\n",
    "    if isinstance(o,list): return o\n",
    "    if isinstance(o,str): return [o]\n",
    "    if isinstance(o,Iterable): return list(o)\n",
    "    return [o]"
   ]
  },
  {
   "cell_type": "code",
   "execution_count": 61,
   "metadata": {},
   "outputs": [],
   "source": [
    "import re\n",
    "\n",
    "_camel_re1 = re.compile('(.)([A-Z][a-z]+)')\n",
    "_camel_re2 = re.compile('([a-z0-9])([A-Z])')\n",
    "\n",
    "def camel2snake(name):\n",
    "    s1 = re.sub(_camel_re1, r'\\1_\\2', name)\n",
    "    return re.sub(_camel_re2, r'\\1_\\2', s1).lower()\n",
    "\n",
    "class Callback():\n",
    "    _order=0\n",
    "    def set_runner(self, run): self.run=run\n",
    "    def __getattr__(self, k): return getattr(self.run, k)\n",
    "    \n",
    "    @property\n",
    "    def name(self):\n",
    "        name = re.sub(r'Callback$', '', self.__class__.__name__)\n",
    "        return camel2snake(name or 'callback')\n",
    "    \n",
    "    def __call__(self, cb_name):\n",
    "        f = getattr(self, cb_name, None)\n",
    "        if f and f(): return True\n",
    "        return False\n",
    "    \n",
    "class CancelTrainException(Exception): pass\n",
    "class CancelEpochException(Exception): pass\n",
    "class CancelBatchException(Exception): pass"
   ]
  },
  {
   "cell_type": "markdown",
   "metadata": {},
   "source": [
    "###  - TrainEvalCallback: \n",
    "reponsible to switch the model back and forth in training or validation mode, as well as maintaining a count of the iterations, or the percentage of iterations ellapsed in the epoch"
   ]
  },
  {
   "cell_type": "code",
   "execution_count": 62,
   "metadata": {},
   "outputs": [],
   "source": [
    "class TrainEvalCallback(Callback):\n",
    "    _order = 5 # make it low priority in running as compared to Base Callback class\n",
    "    def begin_fit(self):\n",
    "        self.run.n_epochs=0.\n",
    "        self.run.n_iter=0\n",
    "    \n",
    "    def after_batch(self):\n",
    "        if not self.in_train: return\n",
    "        self.run.n_epochs += 1./self.iters\n",
    "        self.run.n_iter   += 1\n",
    "        \n",
    "    def begin_epoch(self):\n",
    "        self.run.n_epochs=self.epoch\n",
    "        self.model.train()\n",
    "        self.run.in_train=True\n",
    "\n",
    "    def begin_validate(self):\n",
    "        self.model.eval()\n",
    "        self.run.in_train=False"
   ]
  },
  {
   "cell_type": "markdown",
   "metadata": {},
   "source": [
    "### Runner Class\n",
    "Combines learn(model, loss_func, opt, dl), fit , callbacks together"
   ]
  },
  {
   "cell_type": "code",
   "execution_count": 63,
   "metadata": {},
   "outputs": [],
   "source": [
    "class Runner():\n",
    "    def __init__(self, cbs=None, cb_funcs=None): #cbs are callback inherited class object list, cb_funcs are just derived class names, their object are contructed in constructor\n",
    "        cbs = listify(cbs) # listify all callback objects, if already a list, it does nothing\n",
    "        for cbf in listify(cb_funcs): # this is just list of user defined call back classes\n",
    "            cb = cbf() # create object out of class names\n",
    "            # add these functions to current class object\n",
    "            setattr(self, cb.name, cb) # cb.name is method defined in base CallBack class, note this is self.cb.name=cb() is defined in runner object, runner object gets passed to CallBack Base class using set_runner() in the fit() method of runner class and access to any method inside CallBack class look for getattr inside the runner object\n",
    "            cbs.append(cb) # append to call back object list\n",
    "        self.stop,self.cbs = False, [TrainEvalCallback()] + cbs #TrainEvalCallback() is setting self.in_train accordingly\n",
    "    \n",
    "    @property\n",
    "    def opt(self): return self.learn.opt\n",
    "    @property\n",
    "    def model(self): return self.learn.model\n",
    "    @property\n",
    "    def loss_func(self): return self.learn.loss_func\n",
    "    @property\n",
    "    def data(self): return self.learn.data\n",
    "    \n",
    "    def one_batch(self, xb, yb):\n",
    "        self.xb, self.yb = xb, yb\n",
    "        if self('begin_batch'): return\n",
    "        self.pred = self.model(xb)\n",
    "        if self('after_pred'): return\n",
    "        self.loss = self.loss_func(self.pred, yb.long())\n",
    "        if self('after_loss') or not self.in_train: return\n",
    "        self.loss.backward()\n",
    "        if self('after_backward'): return\n",
    "        self.opt.step()\n",
    "        if self('after_step'): return\n",
    "        self.opt.zero_grad()\n",
    "        \n",
    "    def all_batches(self, dl):\n",
    "        self.iters = len(dl)\n",
    "        for xb,yb in dl:\n",
    "            if self.stop: break\n",
    "            xb, yb = xb.to(device), yb.to(device)\n",
    "            self.one_batch(xb, yb)\n",
    "            self('after_batch')\n",
    "        self.stop=False\n",
    "        \n",
    "    def fit(self, epochs, learn):\n",
    "        self.epochs,self.learn = epochs,learn\n",
    "        \n",
    "        try:\n",
    "            for cb in self.cbs: \n",
    "                #set_trace()\n",
    "                cb.set_runner(self)\n",
    "                \n",
    "            if self('begin_fit'): return\n",
    "            for epoch in range(epochs):\n",
    "                self.epoch = epoch\n",
    "                if not self('begin_epoch'): self.all_batches(self.data.train_dl)\n",
    "\n",
    "                with torch.no_grad(): \n",
    "                    if not self('begin_validate'): self.all_batches(self.data.valid_dl)\n",
    "                \n",
    "                \n",
    "                if self('after_epoch'): break\n",
    "            \n",
    "        finally:\n",
    "            self('after_fit')\n",
    "            self.learn = None\n",
    "        \n",
    "    def __call__(self, cb_name):\n",
    "        for cb in sorted(self.cbs, key=lambda x: x._order): # callbacks object are run based on _order property ordering\n",
    "            f = getattr(cb, cb_name, None)\n",
    "            if f and f(): return True\n",
    "        return False # returning False is normal behaviour in runner class for calling callbacks\n",
    "    "
   ]
  },
  {
   "cell_type": "code",
   "execution_count": 64,
   "metadata": {},
   "outputs": [],
   "source": [
    "train_eval = TrainEvalCallback()\n",
    "run = Runner(cbs = [train_eval])"
   ]
  },
  {
   "cell_type": "code",
   "execution_count": 65,
   "metadata": {},
   "outputs": [],
   "source": [
    "run.fit(2, learn)"
   ]
  },
  {
   "cell_type": "markdown",
   "metadata": {},
   "source": [
    "### define callback  to print train/valid accuracy"
   ]
  },
  {
   "cell_type": "code",
   "execution_count": 66,
   "metadata": {},
   "outputs": [],
   "source": [
    "class AvgStats():\n",
    "    def __init__(self, metrics, in_train):\n",
    "        self.metrics, self.in_train = listify(metrics), in_train\n",
    "        \n",
    "    def reset(self):\n",
    "        self.tot_loss, self.count = 0., 0.\n",
    "        self.tot_mets = [0.] * len(self.metrics)\n",
    "        \n",
    "    @property\n",
    "    def all_stats(self): return [self.tot_loss.item()] + self.tot_mets\n",
    "    @property\n",
    "    def avg_stats(self): return [o/self.count for o in self.all_stats]\n",
    "    \n",
    "    def __repr__(self):\n",
    "        if not self.count: return \"\"\n",
    "        return f\"{'train' if self.in_train else 'valid'}: {self.avg_stats}\"\n",
    "        \n",
    "    def accumulate(self, run): # this is passed run object explicitly since it does not inherits Callback\n",
    "        bn = run.xb.shape[0]\n",
    "        self.tot_loss += run.loss * bn\n",
    "        self.count += bn\n",
    "        for i,m in enumerate(self.metrics):\n",
    "            self.tot_mets[i] += m(run.pred, run.yb.long()) * bn\n",
    "        \n",
    "        \n",
    "class AvgStatsCallback(Callback):\n",
    "    def __init__(self, metrics):\n",
    "        self.train_stats, self.valid_stats = AvgStats(metrics,True), AvgStats(metrics,False)\n",
    "    \n",
    "    def begin_epoch(self):\n",
    "        self.train_stats.reset()\n",
    "        self.valid_stats.reset()\n",
    "        \n",
    "    def after_loss(self):\n",
    "        stats = self.train_stats if self.in_train else self.valid_stats\n",
    "        with torch.no_grad(): stats.accumulate(self.run) \n",
    "            \n",
    "    def after_epoch(self):\n",
    "        print(self.train_stats)\n",
    "        print(self.valid_stats)\n",
    "        "
   ]
  },
  {
   "cell_type": "code",
   "execution_count": 67,
   "metadata": {},
   "outputs": [
    {
     "name": "stdout",
     "output_type": "stream",
     "text": [
      "train: [0.964866953125, tensor(0.6666, device='cuda:0')]\n",
      "valid: [1.144591015625, tensor(0.5917, device='cuda:0')]\n",
      "train: [0.815628671875, tensor(0.7201, device='cuda:0')]\n",
      "valid: [13.6739609375, tensor(0.1020, device='cuda:0')]\n"
     ]
    }
   ],
   "source": [
    "stats = AvgStatsCallback([accuracy])\n",
    "train_eval = TrainEvalCallback()\n",
    "run = Runner(cbs = [train_eval,stats])\n",
    "run.fit(2, learn)"
   ]
  },
  {
   "cell_type": "markdown",
   "metadata": {},
   "source": [
    "### redefine AvgStatsCallBack"
   ]
  },
  {
   "cell_type": "code",
   "execution_count": 68,
   "metadata": {},
   "outputs": [],
   "source": [
    "class AvgStatsCallback(Callback):\n",
    "    def __init__(self, metrics):\n",
    "        self.train_stats,self.valid_stats = AvgStats(metrics,True),AvgStats(metrics,False)\n",
    "    \n",
    "    def begin_fit(self):\n",
    "        met_names = ['loss'] + [m.__name__ for m in self.train_stats.metrics]\n",
    "        names = ['epoch'] + [f'train_{n}' for n in met_names] + [\n",
    "            f'valid_{n}' for n in met_names] + ['time']\n",
    "        self.logger(names)\n",
    "    \n",
    "    def begin_epoch(self):\n",
    "        self.train_stats.reset()\n",
    "        self.valid_stats.reset()\n",
    "        self.start_time = time.time()\n",
    "        \n",
    "    def after_loss(self):\n",
    "        stats = self.train_stats if self.in_train else self.valid_stats\n",
    "        with torch.no_grad(): stats.accumulate(self.run)\n",
    "    \n",
    "    def after_epoch(self):\n",
    "        stats = [str(self.epoch)] \n",
    "        for o in [self.train_stats, self.valid_stats]:\n",
    "            stats += [f'{v:.6f}' for v in o.avg_stats] \n",
    "        stats += [format_time(time.time() - self.start_time)]\n",
    "        self.logger(stats)"
   ]
  },
  {
   "cell_type": "markdown",
   "metadata": {},
   "source": [
    "### Add progressBar as Callback"
   ]
  },
  {
   "cell_type": "code",
   "execution_count": 83,
   "metadata": {},
   "outputs": [],
   "source": [
    "class ProgressCallback(Callback):\n",
    "    _order=-1\n",
    "    def begin_fit(self):\n",
    "        self.mbar = master_bar(range(self.epochs))\n",
    "        self.mbar.on_iter_begin()\n",
    "        self.run.logger = partial(self.mbar.write, table=True)\n",
    "        \n",
    "    def after_fit(self): self.mbar.on_iter_end()\n",
    "    def after_batch(self): self.pb.update(self.iters)\n",
    "    def begin_epoch   (self): \n",
    "        self.dl = self.run.data.train_dl\n",
    "        self.set_pb()\n",
    "    def begin_validate(self): \n",
    "        self.dl = self.run.data.valid_dl\n",
    "        self.set_pb()\n",
    "        \n",
    "    def set_pb(self):\n",
    "        self.pb = progress_bar(self.dl, parent=self.mbar, auto_update=False)\n",
    "        self.mbar.update(self.epoch)"
   ]
  },
  {
   "cell_type": "code",
   "execution_count": 88,
   "metadata": {},
   "outputs": [],
   "source": [
    "cbfs = [partial(AvgStatsCallback,accuracy), TrainEvalCallback,\n",
    "        ProgressCallback]"
   ]
  },
  {
   "cell_type": "code",
   "execution_count": 90,
   "metadata": {},
   "outputs": [
    {
     "data": {
      "text/html": [
       "<table border=\"1\" class=\"dataframe\">\n",
       "  <thead>\n",
       "    <tr style=\"text-align: left;\">\n",
       "      <th>epoch</th>\n",
       "      <th>train_loss</th>\n",
       "      <th>train_accuracy</th>\n",
       "      <th>valid_loss</th>\n",
       "      <th>valid_accuracy</th>\n",
       "      <th>time</th>\n",
       "    </tr>\n",
       "  </thead>\n",
       "  <tbody>\n",
       "    <tr>\n",
       "      <td>0</td>\n",
       "      <td>0.308091</td>\n",
       "      <td>0.897540</td>\n",
       "      <td>3.559078</td>\n",
       "      <td>0.313200</td>\n",
       "      <td>00:33</td>\n",
       "    </tr>\n",
       "    <tr>\n",
       "      <td>1</td>\n",
       "      <td>0.257903</td>\n",
       "      <td>0.916320</td>\n",
       "      <td>6.232309</td>\n",
       "      <td>0.251700</td>\n",
       "      <td>00:33</td>\n",
       "    </tr>\n",
       "  </tbody>\n",
       "</table>"
      ],
      "text/plain": [
       "<IPython.core.display.HTML object>"
      ]
     },
     "metadata": {},
     "output_type": "display_data"
    }
   ],
   "source": [
    "run = Runner(cb_funcs = cbfs)\n",
    "run.fit(2, learn)"
   ]
  },
  {
   "cell_type": "code",
   "execution_count": null,
   "metadata": {},
   "outputs": [],
   "source": []
  }
 ],
 "metadata": {
  "kernelspec": {
   "display_name": "Python [conda env:fastai_v1] *",
   "language": "python",
   "name": "conda-env-fastai_v1-py"
  },
  "language_info": {
   "codemirror_mode": {
    "name": "ipython",
    "version": 3
   },
   "file_extension": ".py",
   "mimetype": "text/x-python",
   "name": "python",
   "nbconvert_exporter": "python",
   "pygments_lexer": "ipython3",
   "version": "3.6.9"
  }
 },
 "nbformat": 4,
 "nbformat_minor": 2
}
